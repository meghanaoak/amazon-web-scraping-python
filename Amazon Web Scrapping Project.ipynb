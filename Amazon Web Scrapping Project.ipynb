{
 "cells": [
  {
   "cell_type": "markdown",
   "id": "1c294804",
   "metadata": {},
   "source": [
    "AMAZON WEB SCRAPING PROJECT"
   ]
  },
  {
   "cell_type": "code",
   "execution_count": 6,
   "id": "50006790",
   "metadata": {},
   "outputs": [],
   "source": [
    "# Import Libraries\n",
    "\n",
    "from bs4 import BeautifulSoup\n",
    "import requests\n",
    "import time\n",
    "import datetime\n",
    "\n",
    "import smtplib"
   ]
  },
  {
   "cell_type": "code",
   "execution_count": 7,
   "id": "72095a57",
   "metadata": {},
   "outputs": [
    {
     "name": "stdout",
     "output_type": "stream",
     "text": [
      "TQH Women's Casual Printed Round Neck, Oversized Longline Drop Shoulder Boho Style T-Shirt\n",
      "₹284\n"
     ]
    }
   ],
   "source": [
    "# Connect to Website\n",
    "\n",
    "URL = 'https://www.amazon.in/TQH-Shoulder-Graphic-Printed-Oversized/dp/B0DXC83R81/ref=sr_1_5?crid=28TE88YH8IP1U&dib=eyJ2IjoiMSJ9.0FEaAt1GW3mtoSn4ew5aT7ie3BqYLFpjr0R_xK8BLRk-RB5WEATwhouplKAbaQKce0_01I_8FoyUSDT-o14idOucDVDh4bWxrvRpP50wX-i0wLR5byrGGyeA9O1MReaiiDWkrdb2llX25YmoIzzbg1T3GqpXiAgnHiUspvyXUR2f4_LEUeKZDFkMhI5UeLApyV_REolcLRVlwQwkFmtmtpLYTzKAkBOf6EGcQ9GJkfAsxWjAnq1LwaikFRC5kJrnpFeWt70zu1sPmn9i2TMkJ2T_qdFLud5aCwU8z_t1Dp0.AbaDcUNfXYofoWpRu10y37zvzuAM47VTsnxc6tCDKtQ&dib_tag=se&keywords=t%2Bshirt%2Bwomen&qid=1747828339&sprefix=data%2B%2B%2Btshirt%2B%2Bwomen%2Caps%2C850&sr=8-5&th=1&psc=1'\n",
    "\n",
    "headers = {\"User-Agent\": \"Mozilla/5.0 (Windows NT 10.0; Win64; x64) AppleWebKit/537.36 (KHTML, like Gecko) Chrome/133.0.0.0 Safari/537.36\"}\n",
    "\n",
    "page = requests.get(URL, headers=headers)\n",
    "\n",
    "soup1 = BeautifulSoup(page.content, 'html.parser')\n",
    "\n",
    "soup2 = BeautifulSoup(soup1.prettify(), 'html.parser')\n",
    "\n",
    "\n",
    "title = soup2.find(id='productTitle').get_text(strip=True)\n",
    "\n",
    "price_symbol_tag = soup2.find(class_='a-price-symbol')\n",
    "price_whole_tag = soup2.find(class_='a-price-whole')\n",
    "\n",
    "price = f'{price_symbol_tag}{price_whole_tag}'\n",
    "\n",
    "if price_symbol_tag and price_whole_tag:\n",
    "    price = f\"{price_symbol_tag.get_text(strip=True)}{price_whole_tag.get_text(strip=True)}\"\n",
    "else:\n",
    "    price = 'Price not found'\n",
    "\n",
    "print(title)\n",
    "print(price)\n"
   ]
  },
  {
   "cell_type": "code",
   "execution_count": 8,
   "id": "398f501c",
   "metadata": {},
   "outputs": [
    {
     "name": "stdout",
     "output_type": "stream",
     "text": [
      "284\n"
     ]
    },
    {
     "data": {
      "text/plain": [
       "str"
      ]
     },
     "execution_count": 8,
     "metadata": {},
     "output_type": "execute_result"
    }
   ],
   "source": [
    "price = price[1:]\n",
    "\n",
    "\n",
    "print(price)\n",
    "type(price)"
   ]
  },
  {
   "cell_type": "code",
   "execution_count": 9,
   "id": "18395754",
   "metadata": {},
   "outputs": [
    {
     "name": "stdout",
     "output_type": "stream",
     "text": [
      "2025-05-21\n"
     ]
    }
   ],
   "source": [
    "import datetime \n",
    "\n",
    "today = datetime.date.today()\n",
    "\n",
    "\n",
    "print(today)"
   ]
  },
  {
   "cell_type": "code",
   "execution_count": 10,
   "id": "5546b95c",
   "metadata": {},
   "outputs": [],
   "source": [
    "import csv\n",
    "\n",
    "header = ['Title', 'Price', 'Date']\n",
    "data = [title, price, today]\n",
    "\n",
    "\n",
    "with open('Amazon Web Scraping dataset.csv', 'w', newline='', encoding = 'UTF8') as f:\n",
    "    writer = csv.writer(f)\n",
    "    writer.writerow(header)\n",
    "    writer.writerow(data)"
   ]
  },
  {
   "cell_type": "code",
   "execution_count": 11,
   "id": "2121cdfd",
   "metadata": {},
   "outputs": [
    {
     "name": "stdout",
     "output_type": "stream",
     "text": [
      "                                               Title  Price        Date\n",
      "0  TQH Women's Casual Printed Round Neck, Oversiz...    284  2025-05-21\n"
     ]
    }
   ],
   "source": [
    "import pandas as pd \n",
    "\n",
    "df = pd.read_csv(r'C:\\Users\\Acer\\Untitled Folder\\Amazon Web Scraping dataset.csv')\n",
    "\n",
    "print(df)"
   ]
  },
  {
   "cell_type": "code",
   "execution_count": 12,
   "id": "bc297e6d",
   "metadata": {},
   "outputs": [],
   "source": [
    "with open('Amazon Web Scraping dataset.csv', 'a+', newline='', encoding = 'UTF8') as f:\n",
    "    writer = csv.writer(f)\n",
    "    writer.writerow(data)"
   ]
  },
  {
   "cell_type": "code",
   "execution_count": 13,
   "id": "9fb21329",
   "metadata": {},
   "outputs": [],
   "source": [
    "def new_data():\n",
    "    URL = 'https://www.amazon.in/Printed-Sleeves-T-Shirts-Developers-Programmers/dp/B0CB1FJCC5/ref=sr_1_7?crid=2SOIQ9W1TI1WB&dib=eyJ2IjoiMSJ9.bid2CojyA82GFmtHGC5JPJ_kcngbNhpOJCOV_QLCUrCMoq3Bs9i1CLD8TnKsaB9UXkYaNnUeecMDR3HXWKUf4hYqHtiXnEoOj8SGEKLm_JKa_W9dccoaOJOuPjO4hgZtC5uCle-AEdo9DYT_qnTaEX403Nlg3e4BLZcP5t2qIg81UPMe4f-9oTFqgIEic8UHyDlGvucfi6jORYAAXdJpp2l4FwEE3FExJK6dQdR51PUxJOFlh2-6AfFKYAvWcXEfyGEjmxDhbWyaR99-yv9bPhnLeOR68NRpwBOP8HnAjkV044sTNwWZ3rls55zP4-jjEQzjeFkHHGZSYZdiarjWn-hz9EJESWEHvgunRmmfLHdfK3Cg_hV-FDU4V8eOSsPteQgMn_BLsj1C0AUUI1Vu2K8NgcJpsSPCvQ8ssOquQnasOJH2imEpNWucs2oCWBT5.oF0-VCEHGJJ2Vg3yMOP-ECCQQgJDNt8bc7w32Li1IkE&dib_tag=se&keywords=data+%2B+analyst+%2B+tshirt%2B+women&qid=1740996938&sprefix=data+%2B+analyst+%2B+tshirt%2B+women%2Caps%2C383&sr=8-7'\n",
    "    headers = {\"User-Agent\": \"Mozilla/5.0 (Windows NT 10.0; Win64; x64) AppleWebKit/537.36 (KHTML, like Gecko) Chrome/133.0.0.0 Safari/537.36\"}\n",
    "    page = requests.get(URL, headers=headers)\n",
    "    soup1 = BeautifulSoup(page.content, 'html.parser')\n",
    "    soup2 = BeautifulSoup(soup1.prettify(), 'html.parser')\n",
    "    title = soup2.find(id='productTitle').get_text(strip=True)\n",
    "    price_symbol = soup2.find(class_='a-price-symbol').get_text(strip= True)\n",
    "    price_whole = soup2.find(class_='a-price-whole').get_text(strip= True)\n",
    "    price = f'{price_symbol}{price_whole}'\n",
    "    \n",
    "    price = price[1:]\n",
    "    \n",
    "    import datetime \n",
    "    today = datetime.date.today()\n",
    "    \n",
    "    \n",
    "    import csv\n",
    "\n",
    "    header = ['Title', 'Price', 'Date']\n",
    "    data = [title, price, today]\n",
    "    \n",
    "    \n",
    "    with open('Amazon Web Scraping dataset.csv', 'a+', newline='', encoding = 'UTF8') as f:\n",
    "        writer = csv.writer(f)\n",
    "        writer.writerow(data)"
   ]
  },
  {
   "cell_type": "code",
   "execution_count": 14,
   "id": "96c9194a",
   "metadata": {},
   "outputs": [
    {
     "ename": "AttributeError",
     "evalue": "'NoneType' object has no attribute 'get_text'",
     "output_type": "error",
     "traceback": [
      "\u001b[1;31m---------------------------------------------------------------------------\u001b[0m",
      "\u001b[1;31mAttributeError\u001b[0m                            Traceback (most recent call last)",
      "Cell \u001b[1;32mIn[14], line 2\u001b[0m\n\u001b[0;32m      1\u001b[0m \u001b[38;5;28;01mwhile\u001b[39;00m(\u001b[38;5;28;01mTrue\u001b[39;00m):\n\u001b[1;32m----> 2\u001b[0m     new_data()\n\u001b[0;32m      3\u001b[0m     time\u001b[38;5;241m.\u001b[39msleep(\u001b[38;5;241m86400\u001b[39m)\n",
      "Cell \u001b[1;32mIn[13], line 8\u001b[0m, in \u001b[0;36mnew_data\u001b[1;34m()\u001b[0m\n\u001b[0;32m      6\u001b[0m soup2 \u001b[38;5;241m=\u001b[39m BeautifulSoup(soup1\u001b[38;5;241m.\u001b[39mprettify(), \u001b[38;5;124m'\u001b[39m\u001b[38;5;124mhtml.parser\u001b[39m\u001b[38;5;124m'\u001b[39m)\n\u001b[0;32m      7\u001b[0m title \u001b[38;5;241m=\u001b[39m soup2\u001b[38;5;241m.\u001b[39mfind(\u001b[38;5;28mid\u001b[39m\u001b[38;5;241m=\u001b[39m\u001b[38;5;124m'\u001b[39m\u001b[38;5;124mproductTitle\u001b[39m\u001b[38;5;124m'\u001b[39m)\u001b[38;5;241m.\u001b[39mget_text(strip\u001b[38;5;241m=\u001b[39m\u001b[38;5;28;01mTrue\u001b[39;00m)\n\u001b[1;32m----> 8\u001b[0m price_symbol \u001b[38;5;241m=\u001b[39m soup2\u001b[38;5;241m.\u001b[39mfind(class_\u001b[38;5;241m=\u001b[39m\u001b[38;5;124m'\u001b[39m\u001b[38;5;124ma-price-symbol\u001b[39m\u001b[38;5;124m'\u001b[39m)\u001b[38;5;241m.\u001b[39mget_text(strip\u001b[38;5;241m=\u001b[39m \u001b[38;5;28;01mTrue\u001b[39;00m)\n\u001b[0;32m      9\u001b[0m price_whole \u001b[38;5;241m=\u001b[39m soup2\u001b[38;5;241m.\u001b[39mfind(class_\u001b[38;5;241m=\u001b[39m\u001b[38;5;124m'\u001b[39m\u001b[38;5;124ma-price-whole\u001b[39m\u001b[38;5;124m'\u001b[39m)\u001b[38;5;241m.\u001b[39mget_text(strip\u001b[38;5;241m=\u001b[39m \u001b[38;5;28;01mTrue\u001b[39;00m)\n\u001b[0;32m     10\u001b[0m price \u001b[38;5;241m=\u001b[39m \u001b[38;5;124mf\u001b[39m\u001b[38;5;124m'\u001b[39m\u001b[38;5;132;01m{\u001b[39;00mprice_symbol\u001b[38;5;132;01m}\u001b[39;00m\u001b[38;5;132;01m{\u001b[39;00mprice_whole\u001b[38;5;132;01m}\u001b[39;00m\u001b[38;5;124m'\u001b[39m\n",
      "\u001b[1;31mAttributeError\u001b[0m: 'NoneType' object has no attribute 'get_text'"
     ]
    }
   ],
   "source": [
    "while(True):\n",
    "    new_data()\n",
    "    time.sleep(86400)"
   ]
  },
  {
   "cell_type": "code",
   "execution_count": null,
   "id": "057058b0",
   "metadata": {},
   "outputs": [],
   "source": [
    "import pandas as pd \n",
    "\n",
    "df = pd.read_csv(r'C:\\Users\\Acer\\Untitled Folder\\Amazon Web Scraping dataset.csv')\n",
    "\n",
    "print(df)"
   ]
  },
  {
   "cell_type": "code",
   "execution_count": null,
   "id": "5e601eb0",
   "metadata": {},
   "outputs": [],
   "source": []
  }
 ],
 "metadata": {
  "kernelspec": {
   "display_name": "Python 3 (ipykernel)",
   "language": "python",
   "name": "python3"
  },
  "language_info": {
   "codemirror_mode": {
    "name": "ipython",
    "version": 3
   },
   "file_extension": ".py",
   "mimetype": "text/x-python",
   "name": "python",
   "nbconvert_exporter": "python",
   "pygments_lexer": "ipython3",
   "version": "3.11.5"
  }
 },
 "nbformat": 4,
 "nbformat_minor": 5
}
